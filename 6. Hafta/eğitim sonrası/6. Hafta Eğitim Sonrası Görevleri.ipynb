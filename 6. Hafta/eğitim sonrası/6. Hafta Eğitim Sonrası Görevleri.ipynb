{
 "cells": [
  {
   "cell_type": "markdown",
   "metadata": {
    "id": "unoTPlV_tJOm"
   },
   "source": [
    "# Problem 1 \n",
    "Bir sayının çift olup olmadığını sorgulayan bir fonksiyon yazın. Bu fonksiyon, eğer sayı çift ise bu değeri dönsün. Ancak sayı tek sayı ise fonksiyon raise ile ValueError hatası oluştursun. Daha sonra, içinde çift ve tek sayılar bulunduran bir liste tanımlayın ve liste üzerinde gezinerek ekrana sadece çift sayıları bastırın."
   ]
  },
  {
   "cell_type": "code",
   "metadata": {
    "id": "7oyBSeXptJOp",
    "ExecuteTime": {
     "end_time": "2024-07-10T04:50:19.811342Z",
     "start_time": "2024-07-10T04:50:19.790104Z"
    }
   },
   "source": [
    "def check_even(number):\n",
    "    if number % 2 == 0:\n",
    "        return number\n",
    "    else:\n",
    "        raise ValueError(f\"{number} is not an even number\")\n",
    "numbers = [1, 2, 3, 4, 5, 6, 7, 8, 9, 10]\n",
    "\n",
    "for number in numbers:\n",
    "    try:\n",
    "        print(check_even(number))\n",
    "    except ValueError as e:\n",
    "        pass"
   ],
   "outputs": [
    {
     "name": "stdout",
     "output_type": "stream",
     "text": [
      "2\n",
      "4\n",
      "6\n",
      "8\n",
      "10\n"
     ]
    }
   ],
   "execution_count": 1
  },
  {
   "cell_type": "markdown",
   "metadata": {
    "id": "CdfzJ2A9tJOq"
   },
   "source": [
    "# Problem 2\n",
    "\n",
    "2 YetGen lideri ders sırasında canları sıkılınca oyun oynamak isterler. Ancak hangi oyunu oynayacaklarına karar veremezler ve son olarak kendi oyunlarını yazmaya karar verirler.\n",
    "Liderlerimizin kodlamak istediği oyun kuralları şöyledir:\n",
    "- Oyunda random olarak 0 ile 100 arasında bir sayı tutulur.\n",
    "- Kullanıcıdan bilgisayarın tuttuğu sayıyı tahmin etmesi için bir sayı girmesini istenir.\n",
    "- Eğer kullanıcının girdiği sayı bulunması gereken sayıdan küçükse  tahmininizi yükseltin, büyükse tahmininizi düşürün şeklinde bir çıktı verilir.\n",
    "- Oyunun gerçeğe yakın olması için bilgisayarın çalışmasını simgelemek için 1 saniye bekleme süresi tanınır.\n",
    "- Kullanıcı 5 hakkı vardır. 5 hakkı da kullanıp sayıyı bulamazsa oyunu kaybeder."
   ]
  },
  {
   "cell_type": "code",
   "metadata": {
    "id": "A1VEETgCtJOr",
    "ExecuteTime": {
     "end_time": "2024-07-10T04:52:07.739302Z",
     "start_time": "2024-07-10T04:51:40.183385Z"
    }
   },
   "source": [
    "import random\n",
    "import time\n",
    "\n",
    "def play_guessing_game():\n",
    "    number_to_guess = random.randint(0, 100)\n",
    "    attempts = 5\n",
    "\n",
    "    print(\"0 ile 100 arasında bir sayı tuttum. Bakalım bulabilecek misin?\")\n",
    "\n",
    "    while attempts > 0:\n",
    "        guess = int(input(f\"Kalan hakkınız {attempts}. Tahmininizi girin: \"))\n",
    "        attempts -= 1\n",
    "\n",
    "        if guess < number_to_guess:\n",
    "            print(\"Tahmininizi yükseltin.\")\n",
    "        elif guess > number_to_guess:\n",
    "            print(\"Tahmininizi düşürün.\")\n",
    "        else:\n",
    "            print(\"Tebrikler! Doğru tahmin ettiniz.\")\n",
    "            break\n",
    "        \n",
    "        time.sleep(1)\n",
    "\n",
    "    if attempts == 0:\n",
    "        print(f\"Maalesef hakkınız doldu. Tutulan sayı {number_to_guess} idi.\")\n",
    "\n",
    "play_guessing_game()"
   ],
   "outputs": [
    {
     "name": "stdout",
     "output_type": "stream",
     "text": [
      "0 ile 100 arasında bir sayı tuttum. Bakalım bulabilecek misin?\n",
      "Tahmininizi yükseltin.\n",
      "Tahmininizi yükseltin.\n",
      "Tahmininizi düşürün.\n",
      "Tahmininizi yükseltin.\n",
      "Tahmininizi düşürün.\n",
      "Maalesef hakkınız doldu. Tutulan sayı 92 idi.\n"
     ]
    }
   ],
   "execution_count": 2
  }
 ],
 "metadata": {
  "kernelspec": {
   "display_name": "Python 3",
   "language": "python",
   "name": "python3"
  },
  "language_info": {
   "codemirror_mode": {
    "name": "ipython",
    "version": 3
   },
   "file_extension": ".py",
   "mimetype": "text/x-python",
   "name": "python",
   "nbconvert_exporter": "python",
   "pygments_lexer": "ipython3",
   "version": "3.10.5"
  },
  "orig_nbformat": 4,
  "vscode": {
   "interpreter": {
    "hash": "5026d2d6e7aaaaba093def813beadff083d8733e4a511af01735cbabd156995d"
   }
  },
  "colab": {
   "provenance": []
  }
 },
 "nbformat": 4,
 "nbformat_minor": 0
}
