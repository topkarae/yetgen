{
  "cells": [
    {
      "cell_type": "markdown",
      "metadata": {
        "id": "tsD4YVAe_Te2"
      },
      "source": [
        "# Problem 1\n",
        "Bir sayının 7'ye bölünebilir olup olmadığını kontrol etmek \n",
        "için bir program yazın.\n",
        "\n",
        "İpucu: Mod operatörünü (%) kullanabilirsiniz."
      ]
    },
    {
      "cell_type": "code",
      "execution_count": 10,
      "metadata": {
        "id": "NGjvNwKx_Te7"
      },
      "outputs": [
        {
          "name": "stdout",
          "output_type": "stream",
          "text": [
            "bölünemez\n"
          ]
        }
      ],
      "source": [
        "sayi=int(input(\"bir sayı giriniz:\"))\n",
        "if sayi%7==0:\n",
        "    print(\"bölünebilir\")\n",
        "else:\n",
        "    print(\"bölünemez\")"
      ]
    },
    {
      "cell_type": "markdown",
      "metadata": {
        "id": "Kg3qiBAI_Te8"
      },
      "source": [
        "# Problem 2\n",
        "Kullanıcıdan vize ve final notu isteyin. Girilen vize notunun %40’ı ve \n",
        "girilen finalnotunun ise %60’ı alınarak yıl sonu not ortalaması hesaplanacaktır. \n",
        "\n",
        "Bu not ortalaması eğer 85 ve üzeri ise AA, \n",
        "\n",
        "75 ve 85 arasında ise BA, \n",
        "\n",
        "70 ve 75 arasında ise BB, \n",
        "\n",
        "65 ve 70 arasında ise CB,\n",
        "\n",
        "60 ve 65 arasında ise CC,\n",
        "\n",
        "55 ve 60 arasında ise DC,\n",
        "\n",
        "50 ve 55 arasında ise DD olarak hesaplanacaktır. \n",
        "\n",
        "Bu öğrencinin yıl sonu toplam notu 50’nin altında ise FF ile dersten kalacaktır. \n",
        "\n",
        "Ayrıca öğrencinin final notu 50’nin altında ise direkt FF ile kalacaktır."
      ]
    },
    {
      "cell_type": "code",
      "execution_count": 19,
      "metadata": {
        "id": "MXTtCxI1_Te8"
      },
      "outputs": [
        {
          "name": "stdout",
          "output_type": "stream",
          "text": [
            "CC\n"
          ]
        }
      ],
      "source": [
        "vize=int(input(\"vize notunuzu giriniz:\"))\n",
        "final=int(input(\"final notunuzu giriniz:\"))\n",
        "ort=vize*0.4+final*0.6\n",
        "if final<50 or ort<50:\n",
        "    print(\"FF\")\n",
        "elif ort>=85 :\n",
        "    print(\"AA\")\n",
        "elif ort>=75 :\n",
        "    print(\"BA\")\n",
        "elif ort>=70 :\n",
        "    print(\"BB\")\n",
        "elif ort>=65:\n",
        "    print(\"CB\")\n",
        "elif ort>=60:\n",
        "    print(\"CC\")\n",
        "elif ort>=55:\n",
        "    print(\"DC\")\n",
        "else:\n",
        "    print(\"DD\")"
      ]
    },
    {
      "cell_type": "markdown",
      "metadata": {
        "id": "tAoRYCTC_Te8"
      },
      "source": [
        "# Problem 3\n",
        "İki YetGenli Zirve'de karşılaşıyorlar. Birbirlerini tanımak için sorular soruyorlar. Birbirlerine yaşlarını soruyorlar. Akıllarına bir Python programı yazıp, yaşlarını ve isimlerini giriyorlar. Büyük olanın yaşını ekrana yazdıran programı yazıyorlar. Sende bu iki YetGenli'ye destek olmak ister misin?\n",
        "\n",
        "```\n",
        "Birinci YetGenlinin ismi: Ahmet\n",
        "Birinci YetGenlinin yaşı : 20\n",
        "İkinci YetGenlinin ismi: Mehmet\n",
        "İkinci YetGenlinin yaşı : 25\n",
        "Mehmet'in yaşı daha büyük ve yaşı 25'tir.\n",
        "```"
      ]
    },
    {
      "cell_type": "code",
      "execution_count": 23,
      "metadata": {
        "id": "bPjE8W0i_Te8"
      },
      "outputs": [
        {
          "name": "stdout",
          "output_type": "stream",
          "text": [
            "Birinci yetgenlinin ismi: Ahmet \n",
            "Birinci yetgenlinin yaşı: 20 \n",
            "İkinci yetgenlinin ismi: Mehmet \n",
            "İkinci yetgenlinin yaşı:25 \n",
            "Mehmet'in yaşı daha büyük ve yaşı 25'dir.\n"
          ]
        }
      ],
      "source": [
        "isim1=str(input(\"birinci kişinin ismini giriniz:\"))\n",
        "yas1=int(input(\"birinci kişinin yaşını giriniz:\"))\n",
        "isim2=str(input(\"ikinci kişinin ismini giriniz:\"))\n",
        "yas2=int(input(\"ikinci kişinin yaşını giriniz:\"))\n",
        "if yas1>yas2:\n",
        "    biggerman=str(f\"{isim1}'in yaşı daha büyük ve yaşı {yas1}'dir.\")\n",
        "elif yas2>yas1:\n",
        "    biggerman=str(f\"{isim2}'in yaşı daha büyük ve yaşı {yas2}'dir.\")\n",
        "else :\n",
        "    biggerman=str(\"İki Yetgenli yaşıttır.\")\n",
        "print(f\"Birinci yetgenlinin ismi: {isim1} \\nBirinci yetgenlinin yaşı: {yas1} \\nİkinci yetgenlinin ismi: {isim2} \\nİkinci yetgenlinin yaşı:{yas2} \\n{biggerman}\")\n"
      ]
    },
    {
      "cell_type": "markdown",
      "metadata": {
        "id": "zBVv8Tyg_Te9"
      },
      "source": [
        "# Problem 4\n",
        "Pandemi döneminde AVM'lerde ateş ölçümü yapılıyor. AVM'ye giren kişinin ateş ölçümü 37.5 derecenin altında ise girişe izin veriliyor. 37.5 derecenin üstünde ise girişe izin verilmiyor. AVM'ye girişe izin verilip verilmediğini ekrana yazdıran bir program yazın.\n",
        "\n",
        "Program sonunda şöyle bir çıktı elde etmelisiniz:\n",
        "\n",
        "```\n",
        "Ateşiniz 37.5 derece. AVM'ye girebilirsin! Maske takmayı unutma!\n",
        "Ateşiniz 37.6 derece. AVM'ye giremezsin! Hemen evine dön!\n",
        "```"
      ]
    },
    {
      "cell_type": "code",
      "execution_count": 26,
      "metadata": {
        "id": "TSAXs8et_Te9"
      },
      "outputs": [
        {
          "name": "stdout",
          "output_type": "stream",
          "text": [
            "Ateşiniz 37.6 derece. AVM'ye giremezsin! Hemen evine dön!\n"
          ]
        }
      ],
      "source": [
        "ates=float(input(\"ateşiniz kaç derece?\"))\n",
        "if ates>37.5:\n",
        "    print(f\"Ateşiniz {ates} derece. AVM'ye giremezsin! Hemen evine dön!\")\n",
        "else:\n",
        "    print(f\"Ateşiniz {ates} derece. AVM'ye girebilirsin. Maske takmayı unutma!\")"
      ]
    },
    {
      "cell_type": "markdown",
      "metadata": {
        "id": "6AEkZrDt_Te9"
      },
      "source": [
        "# Problem 5\n",
        "YetGen bir spor kulübüyle sponsorluk anlaşması yapıyor. Kulüp, sponsorluk anlaşmasına göre her YetGen liderinin beden kitle indeksini hesaplamak istiyor. Spor kulübü, beden kitle indeksini hesaplamak için YetGen Jump Python liderlerinden Berkcan ve Ahmet'i arıyor. Berkcan ve Ahmet, kulübe yardımcı olmak için bir Python programı yazıyorlar. Sende bu iki YetGen liderine destek olmak ister misin?\n",
        "\n",
        "Kullanıcıdan alınan boy ve kilo değerlerine göre beden kitle indeksini hesaplayın ve şu kurallara göre ekrana şu yazıları yazdırın.\n",
        "\n",
        "\n",
        "Beden Kitle İndeksi, kişinin ağırlığının (kg olarak) boyunun karesine (m olarak) bölünmesiyle hesaplanır.\n",
        "\n",
        "\n",
        "```\n",
        " BKİ 18.5'un altındaysa -------> Zayıf\n",
        "\n",
        " BKİ 18.5 ile 25 arasındaysa ------> Normal\n",
        "\n",
        " BKİ 25 ile 30 arasındaysa --------> Fazla Kilolu\n",
        "\n",
        " BKİ 30'un üstündeyse -------------> Obez\n",
        "```\n",
        "\n"
      ]
    },
    {
      "cell_type": "code",
      "execution_count": 46,
      "metadata": {
        "id": "t-XPI_u0_Te-"
      },
      "outputs": [
        {
          "name": "stdout",
          "output_type": "stream",
          "text": [
            "normal\n"
          ]
        }
      ],
      "source": [
        "boy=float(input(\"boyunuz:\"))/100\n",
        "kilo=float(input(\"kilonuz:\"))\n",
        "bki=kilo/(boy**2)\n",
        "if bki<18.5:\n",
        "    print(\"zayıf\")\n",
        "elif bki>=18.5 and bki<=25:\n",
        "    print(\"normal\")\n",
        "elif bki>25 and bki<=30:\n",
        "    print(\"fazla kilolu\")\n",
        "else:\n",
        "    print(\"obez\")"
      ]
    },
    {
      "cell_type": "markdown",
      "metadata": {
        "id": "oFsvQyaO_Te-"
      },
      "source": [
        "# Problem 6\n",
        "Kullanıcıdan isim, yaş ve eğitim bilgilerini isteyip ehliyet alabilme  durumunu kontrol ediniz. \n",
        "\n",
        "Ehliyet alma koşulu en az 18 yaşında ve eğitim durumu lise ya da üniversite olmalıdır. "
      ]
    },
    {
      "cell_type": "code",
      "execution_count": 52,
      "metadata": {
        "id": "Tu2mcgco_Te-"
      },
      "outputs": [
        {
          "name": "stdout",
          "output_type": "stream",
          "text": [
            "sayın emin, ehliyet alabilirsiniz.\n"
          ]
        }
      ],
      "source": [
        "isim=str(input(\"isminizi giriniz:\"))\n",
        "yas=int(input(\"yaşınızı giriniz:\"))\n",
        "soru=str(input(\"eğitim durumunuz?(lise mezunu iseniz lise üniversite mezunu iseniz üniversite yazınız. ikisi de değilseniz boş bırakınız.)\"))\n",
        "if yas>=18 and (soru==\"lise\" or soru==\"üniversite\"):\n",
        "    print(f\"sayın {isim}, ehliyet alabilirsiniz.\")\n",
        "else:\n",
        "    print(f\"sayın {isim}, ehliyet almaya uygun değilsiniz.\")"
      ]
    },
    {
      "cell_type": "markdown",
      "metadata": {
        "id": "eUkxVSAE_Te_"
      },
      "source": [
        "# Problem 7\n",
        "Bir yılın artık yıl olup olmadığını kontrol etmek için bir program yazın. \n",
        "Artık yıl kuralı:\n",
        "\n",
        "a) Eğer yılın son iki basamağı (00) ile bitmiyor ve yalnızca 4'e tam bölünüyorsa artık yıldır. Ya da, \n",
        "\n",
        "b) Eğer yıl 400'e tam bölünüyorsa artık yıldır.\n",
        "\n",
        "**Örneğin**\n",
        "```\n",
        "2017 artık yıl değildir.\n",
        "1900 artık yıl değildir\n",
        "2012 artık yıldır.\n",
        "2000 artık yıldır.\n",
        "```"
      ]
    },
    {
      "cell_type": "code",
      "execution_count": 69,
      "metadata": {
        "id": "4uWh8qUL_Te_"
      },
      "outputs": [
        {
          "name": "stdout",
          "output_type": "stream",
          "text": [
            "2000 artık yıldır.\n"
          ]
        }
      ],
      "source": [
        "artikyil=int(input(\"yılı giriniz:\"))\n",
        "if artikyil%400==0 or (artikyil%100!=0 and artikyil%4==0):\n",
        "    print(f\"{artikyil} artık yıldır.\")\n",
        "else:\n",
        "    print(f\"{artikyil} artık yıl değildir.\")"
      ]
    }
  ],
  "metadata": {
    "colab": {
      "provenance": []
    },
    "kernelspec": {
      "display_name": "Python 3.10.5 64-bit",
      "language": "python",
      "name": "python3"
    },
    "language_info": {
      "codemirror_mode": {
        "name": "ipython",
        "version": 3
      },
      "file_extension": ".py",
      "mimetype": "text/x-python",
      "name": "python",
      "nbconvert_exporter": "python",
      "pygments_lexer": "ipython3",
      "version": "3.12.3"
    },
    "orig_nbformat": 4,
    "vscode": {
      "interpreter": {
        "hash": "5026d2d6e7aaaaba093def813beadff083d8733e4a511af01735cbabd156995d"
      }
    }
  },
  "nbformat": 4,
  "nbformat_minor": 0
}
