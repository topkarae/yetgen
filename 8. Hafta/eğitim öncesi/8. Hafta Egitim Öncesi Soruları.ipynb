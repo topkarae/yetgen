{
 "cells": [
  {
   "cell_type": "markdown",
   "metadata": {
    "id": "Pzh44PAE5H61"
   },
   "source": [
    "# Problem 1 \n",
    "Kullanıcıdan aldığı ürün bilgisini (ad, fiyat) urunler.txt dosyasına kayıt eden fonksiyonu yazınız."
   ]
  },
  {
   "cell_type": "code",
   "metadata": {
    "id": "uKw3Wap95H64",
    "ExecuteTime": {
     "end_time": "2024-07-12T12:21:16.326015Z",
     "start_time": "2024-07-12T12:21:04.675495Z"
    }
   },
   "source": [
    "def urun_bilgisi_kaydet():\n",
    "    urun_adi = input(\"Ürün adını giriniz: \")\n",
    "    urun_fiyati = input(\"Ürün fiyatını giriniz: \")\n",
    "    \n",
    "    with open(\"urunler.txt\", \"a\") as dosya:\n",
    "        dosya.write(f\"Ürün Adı: {urun_adi}, Fiyatı: {urun_fiyati}\\n\")\n",
    "        \n",
    "    print(\"Ürün bilgisi başarıyla kaydedildi.\")\n",
    "\n",
    "urun_bilgisi_kaydet()"
   ],
   "outputs": [
    {
     "name": "stdout",
     "output_type": "stream",
     "text": [
      "Ürün bilgisi başarıyla kaydedildi.\n"
     ]
    }
   ],
   "execution_count": 1
  },
  {
   "cell_type": "markdown",
   "metadata": {
    "id": "Lw7xy19D5H66"
   },
   "source": [
    "# Problem 2\n",
    "1.problemde oluşturulan text dosyası içerisinde kullanıcıdan alacağımız eski kelime isimli değişkene atadığımız \n",
    "ve değiştirilmesini istediğimiz kelimemizi yerini alıcak olan yeni kelime isimli değişkene atayın. Belirlenen kelimeleri text dosyasında değiştiren fonksiyonu yazınız."
   ]
  },
  {
   "cell_type": "code",
   "metadata": {
    "id": "jDlym3ko5H66",
    "ExecuteTime": {
     "end_time": "2024-07-12T12:25:20.443446Z",
     "start_time": "2024-07-12T12:25:15.347039Z"
    }
   },
   "source": [
    "def kelime_degistir(dosya_adi, eski_kelime, yeni_kelime):\n",
    "    try:\n",
    "        # Dosyayı oku\n",
    "        with open(dosya_adi, \"r\", encoding=\"latin-1\") as dosya:\n",
    "            icerik = dosya.read()\n",
    "        \n",
    "        # Eski kelimeyi yeni kelime ile değiştir\n",
    "        yeni_icerik = icerik.replace(eski_kelime, yeni_kelime)\n",
    "        \n",
    "        # Dosyayı güncellenmiş içerikle tekrar yaz\n",
    "        with open(dosya_adi, \"w\", encoding=\"latin-1\") as dosya:\n",
    "            dosya.write(yeni_icerik)\n",
    "        \n",
    "        print(f\"'{eski_kelime}' kelimesi başarıyla '{yeni_kelime}' ile değiştirildi.\")\n",
    "    except FileNotFoundError:\n",
    "        print(f\"{dosya_adi} bulunamadı.\")\n",
    "    except Exception as e:\n",
    "        print(f\"Bir hata oluştu: {e}\")\n",
    "\n",
    "eski_kelime = input(\"Değiştirmek istediğiniz kelimeyi giriniz: \")\n",
    "yeni_kelime = input(\"Yeni kelimeyi giriniz: \")\n",
    "\n",
    "kelime_degistir(\"urunler.txt\", eski_kelime, yeni_kelime)"
   ],
   "outputs": [
    {
     "name": "stdout",
     "output_type": "stream",
     "text": [
      "'Un' kelimesi başarıyla 'Ekmek' ile değiştirildi.\n"
     ]
    }
   ],
   "execution_count": 5
  },
  {
   "cell_type": "markdown",
   "metadata": {
    "id": "3aSYk4FF5H67"
   },
   "source": [
    "# Problem 3\n",
    "Vehicle sınıfının tüm değişkenlerini ve yöntemlerini devralacak bir alt sınıf olarak Bus sınıfı oluşturunuz.\n",
    "\n",
    "\n",
    "\n",
    "```\n",
    "Output\n",
    "> Name: School Volvo Speed: 180 Mileage: 12\n",
    "```\n"
   ]
  },
  {
   "cell_type": "code",
   "metadata": {
    "id": "PwCI6Xkb5H68",
    "ExecuteTime": {
     "end_time": "2024-07-12T12:29:16.574912Z",
     "start_time": "2024-07-12T12:29:16.565604Z"
    }
   },
   "source": [
    "class Vehicle:\n",
    "    def __init__(self, name, speed, mileage):\n",
    "        self.name = name\n",
    "        self.speed = speed\n",
    "        self.mileage = mileage\n",
    "\n",
    "    def display_info(self):\n",
    "        return f\"Name: {self.name} Speed: {self.speed} Mileage: {self.mileage}\"\n",
    "\n",
    "class Bus(Vehicle):\n",
    "    pass\n",
    "\n",
    "school_bus = Bus(\"School Volvo\", 180, 12)\n",
    "\n",
    "print(school_bus.display_info())"
   ],
   "outputs": [
    {
     "name": "stdout",
     "output_type": "stream",
     "text": [
      "Name: School Volvo Speed: 180 Mileage: 12\n"
     ]
    }
   ],
   "execution_count": 7
  }
 ],
 "metadata": {
  "kernelspec": {
   "display_name": "Python 3",
   "language": "python",
   "name": "python3"
  },
  "language_info": {
   "codemirror_mode": {
    "name": "ipython",
    "version": 3
   },
   "file_extension": ".py",
   "mimetype": "text/x-python",
   "name": "python",
   "nbconvert_exporter": "python",
   "pygments_lexer": "ipython3",
   "version": "3.10.5"
  },
  "orig_nbformat": 4,
  "vscode": {
   "interpreter": {
    "hash": "5026d2d6e7aaaaba093def813beadff083d8733e4a511af01735cbabd156995d"
   }
  },
  "colab": {
   "provenance": []
  }
 },
 "nbformat": 4,
 "nbformat_minor": 0
}
