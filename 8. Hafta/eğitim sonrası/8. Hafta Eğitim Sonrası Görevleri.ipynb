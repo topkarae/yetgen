{
 "cells": [
  {
   "attachments": {},
   "cell_type": "markdown",
   "metadata": {},
   "source": [
    "# Problem 1\n",
    "\n",
    "Şimdi beraber kullanıcılardan aldığımız verileri işleyerek, onlara hem çıktı verecek, hem de aldığımız ve hesapladığımız verileri ileride kullanabilmek adına kaydedeceğiz.\n",
    "\n",
    "\n",
    " **Bu bir veri giriş platformu olacak**\n",
    "\n",
    "\n",
    " * kullanıcıya kaç giriş yapacağını soracağız\n",
    "* kullanıcıdan isim-soyisim, yaş, boy, kilo bilgilerini alarak VKİ hesaplayacağız\n",
    "* ardından bunları sınıflara göre kaydedeceğiz bir dosyaya kaydedeceğiz\n",
    "\n",
    "\n",
    "Sınıflar ise şu şekilde: \n",
    "* 18, 5 kg/m.'nin altında olanlar: Zayıf\n",
    "* 18.5 – 24, 9 kg/m. arasında olanlar: Normal kilolu\n",
    "* 25 – 29, 9 kg/m. arasında olanlar: Fazla kilolu\n",
    "* 30 – 39, 9 kg/m. arasında olanlar: Obez\n",
    "* 40 kg/m.'nin üzerinde olanlar: İleri derecede obez (morbid obez), olarak görülür."
   ]
  },
  {
   "cell_type": "code",
   "metadata": {
    "ExecuteTime": {
     "end_time": "2024-07-19T10:39:39.462195Z",
     "start_time": "2024-07-19T10:39:20.488934Z"
    }
   },
   "source": [
    "def calculate_bmi(weight, height):\n",
    "    bmi = weight / (height ** 2)\n",
    "    return bmi\n",
    "\n",
    "def classify_bmi(bmi):\n",
    "    if bmi < 18.5:\n",
    "        return 'Zayıf'\n",
    "    elif 18.5 <= bmi < 24.9:\n",
    "        return 'Normal kilolu'\n",
    "    elif 25 <= bmi < 29.9:\n",
    "        return 'Fazla kilolu'\n",
    "    elif 30 <= bmi < 39.9:\n",
    "        return 'Obez'\n",
    "    else:\n",
    "        return 'İleri derecede obez (morbid obez)'\n",
    "\n",
    "def get_user_data(num_entries):\n",
    "    user_data = []\n",
    "    for _ in range(num_entries):\n",
    "        name = input(\"İsim ve soyisim giriniz: \")\n",
    "        age = int(input(\"Yaş giriniz: \"))\n",
    "        height = float(input(\"Boy (metre cinsinden) giriniz: \"))\n",
    "        weight = float(input(\"Kilo giriniz: \"))\n",
    "        \n",
    "        bmi = calculate_bmi(weight, height)\n",
    "        classification = classify_bmi(bmi)\n",
    "        \n",
    "        user_data.append([name, age, height, weight, bmi, classification])\n",
    "    \n",
    "    return user_data\n",
    "\n",
    "def save_to_file(data, filename='user_data.txt'):\n",
    "    with open(filename, mode='a') as file:\n",
    "        file.write('İsim, Yaş, Boy, Kilo, VKİ, Sınıflandırma\\n')\n",
    "        for entry in data:\n",
    "            file.write(f\"{entry[0]}, {entry[1]}, {entry[2]}, {entry[3]}, {entry[4]:.2f}, {entry[5]}\\n\")\n",
    "\n",
    "def main():\n",
    "    num_entries = int(input(\"Kaç giriş yapacaksınız? \"))\n",
    "    user_data = get_user_data(num_entries)\n",
    "    save_to_file(user_data)\n",
    "    print(f\"Tüm veriler {num_entries} kişi için kaydedildi.\")\n",
    "\n",
    "if __name__ == \"__main__\":\n",
    "    main()"
   ],
   "outputs": [
    {
     "name": "stdout",
     "output_type": "stream",
     "text": [
      "Tüm veriler 1 kişi için kaydedildi.\n"
     ]
    }
   ],
   "execution_count": 3
  },
  {
   "attachments": {},
   "cell_type": "markdown",
   "metadata": {},
   "source": [
    "# Problem 2\n",
    "**YetBar - Smoothie Bank**\n",
    "---\n",
    "YetBar spor salonunun girişinde bulunan, insansız bir sağlıklı içecek otomatıdır. Kullanıcı çeşitli girdiler smoothie içeceğine koyacağı ürünleri belirleyebilir, fiyat hesaplaması yaptırabilir ya da sadece menüyü görüntüleyebilir.\n",
    "\n",
    "**Projenin Amacı:**\n",
    "\n",
    "*   Birbirini etkileyen ve bir kod içerisinde birden fazla defa başvurulacak fonksiyonların oluşturulup, \"fonksiyonel\" proglamlamak.\n",
    "*   Büyük programları yazarken, yazılımcı olarak yapabileceğimiz hatalardan kaçınmak için kontrol yöntemleri geliştirmek.\n",
    "*   Kullanıcı inputlarını ve yaptığımız hesapları, raporlamak/loglamak amacıyla kaydetmek.\n",
    "\n",
    "**Programdan Beklenen Çıktılar**\n",
    "* Program kullanıcıya temelde 2 farklı işlem yapma imkanı sağlar.\n",
    "> 1. Menüyü görüntüleme\n",
    "> 3. Satın alma\n",
    "* Satın alınan her içecek tarih, fiyat bilgisi ile kaydedilmeli ve her zaman ulaşılabilir olmalıdır.\n",
    "\n",
    "\n"
   ]
  },
  {
   "cell_type": "code",
   "metadata": {
    "ExecuteTime": {
     "end_time": "2024-07-19T10:47:06.457626Z",
     "start_time": "2024-07-19T10:46:29.932311Z"
    }
   },
   "source": [
    "import datetime\n",
    "\n",
    "MENU = {\n",
    "    'Muz': 2.0,\n",
    "    'Çilek': 2.5,\n",
    "    'Yaban Mersini': 3.0,\n",
    "    'Ispanak': 1.5,\n",
    "    'Süt': 1.0,\n",
    "    'Badem Sütü': 3.0,\n",
    "    'Soya Sütü': 3.0,\n",
    "    'Yoğurt': 1.5,\n",
    "    'Bal': 0.5\n",
    "}\n",
    "\n",
    "def display_menu():\n",
    "    print(\"YetBar Smoothie Menü:\")\n",
    "    for item, price in MENU.items():\n",
    "        print(f\"{item}: {price} TL\")\n",
    "\n",
    "def purchase_smoothie():\n",
    "    total_price = 0.0\n",
    "    chosen_items = []\n",
    "    \n",
    "    while True:\n",
    "        item = input(\"Ekleyeceğiniz ürünü girin (bitirmek için 'q' tuşlayın): \")\n",
    "        if item.lower() == 'q':\n",
    "            break\n",
    "        if item in MENU:\n",
    "            quantity = int(input(f\"Kaç adet {item} eklemek istersiniz?: \"))\n",
    "            total_price += MENU[item] * quantity\n",
    "            chosen_items.append((item, quantity))\n",
    "        else:\n",
    "            print(\"Menüde olmayan bir ürün girdiniz. Lütfen tekrar deneyin.\")\n",
    "    \n",
    "    print(f\"\\nToplam Fiyat: {total_price:.2f} TL\")\n",
    "    save_transaction(chosen_items, total_price)\n",
    "\n",
    "def save_transaction(items, total_price, filename='transactions.txt'):\n",
    "    with open(filename, 'a') as file:\n",
    "        timestamp = datetime.datetime.now().strftime(\"%Y-%m-%d %H:%M:%S\")\n",
    "        file.write(f\"Tarih: {timestamp}, Ürünler: {items}, Toplam Fiyat: {total_price:.2f} TL\\n\")\n",
    "\n",
    "def main_menu():\n",
    "    while True:\n",
    "        print(\"\\nYetBar Smoothie Bank\")\n",
    "        print(\"1. Menüyü Görüntüle\")\n",
    "        print(\"2. Smoothie Satın Al\")\n",
    "        print(\"3. Çıkış\")\n",
    "        \n",
    "        choice = input(\"Seçiminizi yapın (1 Menü/2 Satın AL/3 Çıkış): \")\n",
    "        \n",
    "        if choice == '1':\n",
    "            display_menu()\n",
    "        elif choice == '2':\n",
    "            purchase_smoothie()\n",
    "        elif choice == '3':\n",
    "            print(\"Çıkış yapılıyor...\")\n",
    "            break\n",
    "        else:\n",
    "            print(\"Geçersiz seçim. Lütfen tekrar deneyin.\")\n",
    "\n",
    "if __name__ == \"__main__\":\n",
    "    main_menu()"
   ],
   "outputs": [
    {
     "name": "stdout",
     "output_type": "stream",
     "text": [
      "\n",
      "YetBar Smoothie Bank\n",
      "1. Menüyü Görüntüle\n",
      "2. Smoothie Satın Al\n",
      "3. Çıkış\n",
      "YetBar Smoothie Menü:\n",
      "Muz: 2.0 TL\n",
      "Çilek: 2.5 TL\n",
      "Yaban Mersini: 3.0 TL\n",
      "Ispanak: 1.5 TL\n",
      "Süt: 1.0 TL\n",
      "Badem Sütü: 3.0 TL\n",
      "Soya Sütü: 3.0 TL\n",
      "Yoğurt: 1.5 TL\n",
      "Bal: 0.5 TL\n",
      "\n",
      "YetBar Smoothie Bank\n",
      "1. Menüyü Görüntüle\n",
      "2. Smoothie Satın Al\n",
      "3. Çıkış\n",
      "\n",
      "Toplam Fiyat: 3.50 TL\n",
      "\n",
      "YetBar Smoothie Bank\n",
      "1. Menüyü Görüntüle\n",
      "2. Smoothie Satın Al\n",
      "3. Çıkış\n",
      "Çıkış yapılıyor...\n"
     ]
    }
   ],
   "execution_count": 8
  }
 ],
 "metadata": {
  "kernelspec": {
   "display_name": "Python 3",
   "language": "python",
   "name": "python3"
  },
  "language_info": {
   "name": "python",
   "version": "3.10.5 (tags/v3.10.5:f377153, Jun  6 2022, 16:14:13) [MSC v.1929 64 bit (AMD64)]"
  },
  "orig_nbformat": 4,
  "vscode": {
   "interpreter": {
    "hash": "5026d2d6e7aaaaba093def813beadff083d8733e4a511af01735cbabd156995d"
   }
  }
 },
 "nbformat": 4,
 "nbformat_minor": 2
}
