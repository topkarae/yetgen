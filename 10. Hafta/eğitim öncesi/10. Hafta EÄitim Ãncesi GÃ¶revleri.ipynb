{
 "cells": [
  {
   "attachments": {},
   "cell_type": "markdown",
   "metadata": {},
   "source": [
    "# Problem 1"
   ]
  },
  {
   "cell_type": "code",
   "execution_count": 3,
   "metadata": {},
   "outputs": [
    {
     "name": "stdout",
     "output_type": "stream",
     "text": [
      "Başlangıç Matris:\n",
      "[ 0.   2.5  5.   7.5 10. ]\n",
      "\n",
      "Matris'in Boyutu:\n",
      "(5,)\n",
      "\n",
      "1x5 Boyutunda Matris:\n",
      "[[ 0.   2.5  5.   7.5 10. ]]\n",
      "\n",
      "5x1 Boyutunda Matris:\n",
      "[[ 0. ]\n",
      " [ 2.5]\n",
      " [ 5. ]\n",
      " [ 7.5]\n",
      " [10. ]]\n",
      "\n",
      "ilk Matris'in Boyut Sayısı:\n",
      "2\n",
      "\n",
      "ikinci Matris'in Boyut Sayısı:\n",
      "2\n"
     ]
    }
   ],
   "source": [
    "# 1 - numpy kütüphanesini import edin\n",
    "import numpy as np\n",
    "\n",
    "# 2 - 0 ile 10 arasında 5 sayıdan oluşan matris üretin\n",
    "matris = np.linspace(0, 10, 5)\n",
    "print(\"Başlangıç Matris:\")\n",
    "print(matris)\n",
    "\n",
    "# 3 - matris'in boyutunu öğrenin\n",
    "print(\"\\nMatris'in Boyutu:\")\n",
    "print(matris.shape)\n",
    "\n",
    "# 4 - matris'i yeniden boyutlandırın\n",
    "matris_reshape_1x5 = matris.reshape(1, 5)\n",
    "print(\"\\n1x5 Boyutunda Matris:\")\n",
    "print(matris_reshape_1x5)\n",
    "\n",
    "matris_reshape_5x1 = matris.reshape(5, 1)\n",
    "print(\"\\n5x1 Boyutunda Matris:\")\n",
    "print(matris_reshape_5x1)\n",
    "\n",
    "# 5 - matris'in boyut sayısını öğrenin\n",
    "print(\"\\nilk Matris'in Boyut Sayısı:\")\n",
    "print(matris_reshape_1x5.ndim)\n",
    "\n",
    "print(\"\\nikinci Matris'in Boyut Sayısı:\")\n",
    "print(matris_reshape_5x1.ndim)"
   ]
  },
  {
   "attachments": {},
   "cell_type": "markdown",
   "metadata": {},
   "source": [
    "# Problem 2"
   ]
  },
  {
   "cell_type": "code",
   "execution_count": 4,
   "metadata": {},
   "outputs": [
    {
     "name": "stdout",
     "output_type": "stream",
     "text": [
      "Oluşturulan matris:  [1 3 5 7 9]\n",
      "Parça 1:  [1 3]\n",
      "Parça 2:  [5 7 9]\n",
      "Birleştirilmiş matris:  [1 3 5 7 9]\n"
     ]
    }
   ],
   "source": [
    "import numpy as np\n",
    "\n",
    "# 1 - 0 ile 10 arasında bulunan tek sayılardan oluşan matris üretin\n",
    "matris = np.array([i for i in range(0, 11) if i % 2 != 0])\n",
    "print(\"Oluşturulan matris: \", matris)\n",
    "\n",
    "# 2 - Oluşturduğunuz matrisi parçalayın\n",
    "parca1, parca2 = np.split(matris, [2]) # İlk 2 elemanı alıp kalanı ayrı bir parça olarak ayırıyoruz\n",
    "print(\"Parça 1: \", parca1)\n",
    "print(\"Parça 2: \", parca2)\n",
    "\n",
    "# 3 - Parçalanmış matrisleri birleştirin\n",
    "birlesik_matris = np.concatenate((parca1, parca2))\n",
    "print(\"Birleştirilmiş matris: \", birlesik_matris)"
   ]
  },
  {
   "attachments": {},
   "cell_type": "markdown",
   "metadata": {},
   "source": [
    "# Problem 3"
   ]
  },
  {
   "cell_type": "code",
   "execution_count": 5,
   "metadata": {},
   "outputs": [
    {
     "name": "stdout",
     "output_type": "stream",
     "text": [
      "Oluşturulan matris:  [99 19 39  7 27 21 97 91 91 95]\n",
      "Matrisin boyutu:  1\n",
      "Matrisin şekli:  (10,)\n",
      "Matrisin eleman sayısı:  10\n",
      "Matrisin veri tipi:  int64\n",
      "Matrisin elemanlarının toplamı:  586\n",
      "Matrisin elemanlarının ortalaması:  58.6\n"
     ]
    }
   ],
   "source": [
    "import numpy as np\n",
    "\n",
    "# 1 - 5 ile 100 arasında ikişer ikişer atlayarak rastgele 10 sayıdan oluşan matris üretin\n",
    "rastgele_sayilar = np.random.choice(range(5, 101, 2), 10)\n",
    "print(\"Oluşturulan matris: \", rastgele_sayilar)\n",
    "\n",
    "# 2 - Matris'in özelliklerini inceleyin\n",
    "print(\"Matrisin boyutu: \", rastgele_sayilar.ndim)\n",
    "print(\"Matrisin şekli: \", rastgele_sayilar.shape)\n",
    "print(\"Matrisin eleman sayısı: \", rastgele_sayilar.size)\n",
    "print(\"Matrisin veri tipi: \", rastgele_sayilar.dtype)\n",
    "print(\"Matrisin elemanlarının toplamı: \", np.sum(rastgele_sayilar))\n",
    "print(\"Matrisin elemanlarının ortalaması: \", np.mean(rastgele_sayilar))"
   ]
  }
 ],
 "metadata": {
  "kernelspec": {
   "display_name": "Python 3",
   "language": "python",
   "name": "python3"
  },
  "language_info": {
   "codemirror_mode": {
    "name": "ipython",
    "version": 3
   },
   "file_extension": ".py",
   "mimetype": "text/x-python",
   "name": "python",
   "nbconvert_exporter": "python",
   "pygments_lexer": "ipython3",
   "version": "3.12.3"
  },
  "orig_nbformat": 4,
  "vscode": {
   "interpreter": {
    "hash": "5026d2d6e7aaaaba093def813beadff083d8733e4a511af01735cbabd156995d"
   }
  }
 },
 "nbformat": 4,
 "nbformat_minor": 2
}
